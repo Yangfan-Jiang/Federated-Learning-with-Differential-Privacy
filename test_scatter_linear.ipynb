{
 "cells": [
  {
   "cell_type": "code",
   "execution_count": 1,
   "metadata": {
    "tags": []
   },
   "outputs": [],
   "source": [
    "# Application of FL task\n",
    "from MLModel import *\n",
    "from FLModel import *\n",
    "from utils import *\n",
    "\n",
    "from torchvision import datasets, transforms\n",
    "import torch\n",
    "import numpy as np\n",
    "import os\n",
    "\n",
    "os.environ[\"CUDA_VISIBLE_DEVICES\"] = \"0\"\n",
    "device = torch.device(\"cuda:0\" if torch.cuda.is_available() else \"cpu\")\n",
    "#device = torch.device(\"cpu\")"
   ]
  },
  {
   "cell_type": "code",
   "execution_count": 2,
   "metadata": {},
   "outputs": [],
   "source": [
    "scattering, K, (h, w) = get_scatter_transform()\n",
    "scattering.to(device)\n",
    "\n",
    "def get_scattered_feature(dataset):\n",
    "    scatters = []\n",
    "    targets = []\n",
    "    \n",
    "    loader = torch.utils.data.DataLoader(\n",
    "        dataset, batch_size=256, shuffle=True, num_workers=1, pin_memory=True)\n",
    "\n",
    "    \n",
    "    for (data, target) in loader:\n",
    "        data, target = data.to(device), target.to(device)\n",
    "        if scattering is not None:\n",
    "            data = scattering(data)\n",
    "        scatters.append(data)\n",
    "        targets.append(target)\n",
    "\n",
    "    scatters = torch.cat(scatters, axis=0)\n",
    "    targets = torch.cat(targets, axis=0)\n",
    "\n",
    "    data = torch.utils.data.TensorDataset(scatters, targets)\n",
    "    return data\n",
    "\n",
    "def load_mnist(num_users):\n",
    "    train = datasets.MNIST(root=\"~/data/\", train=True, download=True, transform=transforms.ToTensor())\n",
    "    test = datasets.MNIST(root=\"~/data/\", train=False, download=True, transform=transforms.ToTensor())\n",
    "    \n",
    "    # get scattered features\n",
    "    train = get_scattered_feature(train)\n",
    "    test = get_scattered_feature(test)\n",
    "    \n",
    "    train_data = train[:][0].squeeze().cpu().float()\n",
    "    train_label = train[:][1].cpu()\n",
    "    \n",
    "    test_data = test[:][0].squeeze().cpu().float()\n",
    "    test_label = test[:][1].cpu()\n",
    "\n",
    "    # split MNIST (training set) into non-iid data sets\n",
    "    non_iid = []\n",
    "    user_dict = mnist_noniid(train_label, num_users)\n",
    "    for i in range(num_users):\n",
    "        idx = user_dict[i]\n",
    "        d = train_data[idx]\n",
    "        targets = train_label[idx].float()\n",
    "        non_iid.append((d, targets))\n",
    "    non_iid.append((test_data.float(), test_label.float()))\n",
    "    return non_iid"
   ]
  },
  {
   "cell_type": "code",
   "execution_count": 3,
   "metadata": {},
   "outputs": [],
   "source": [
    "\"\"\"\n",
    "1. load_data\n",
    "2. generate clients (step 3)\n",
    "3. generate aggregator\n",
    "4. training\n",
    "\"\"\"\n",
    "client_num = 4\n",
    "d = load_mnist(client_num)\n",
    "\n",
    "torch.cuda.empty_cache()"
   ]
  },
  {
   "cell_type": "code",
   "execution_count": 4,
   "metadata": {
    "tags": []
   },
   "outputs": [
    {
     "data": {
      "text/plain": [
       "torch.Size([81, 7, 7])"
      ]
     },
     "execution_count": 4,
     "metadata": {},
     "output_type": "execute_result"
    }
   ],
   "source": [
    "d[1][0][0].shape"
   ]
  },
  {
   "cell_type": "code",
   "execution_count": 5,
   "metadata": {},
   "outputs": [
    {
     "name": "stdout",
     "output_type": "stream",
     "text": [
      "noise scale = 1.0771102905273438\n"
     ]
    }
   ],
   "source": [
    "\"\"\"\n",
    "FL model parameters.\n",
    "\"\"\"\n",
    "import warnings\n",
    "warnings.filterwarnings(\"ignore\")\n",
    "\n",
    "lr = 0.075\n",
    "\n",
    "fl_param = {\n",
    "    'output_size': 10,\n",
    "    'K': K,\n",
    "    'h': h,\n",
    "    'w': w,\n",
    "    'client_num': client_num,\n",
    "    'model': 'scatter',\n",
    "    'data': d,\n",
    "    'lr': lr,\n",
    "    'E': 500,\n",
    "    'C': 1,\n",
    "    'eps': 4.0,\n",
    "    'delta': 1e-5,\n",
    "    'q': 0.01,\n",
    "    'clip': 0.1,\n",
    "    'tot_T': 10,\n",
    "    'batch_size': 128,\n",
    "    'device': device\n",
    "}\n",
    "\n",
    "fl_entity = FLServer(fl_param).to(device)"
   ]
  },
  {
   "cell_type": "code",
   "execution_count": 6,
   "metadata": {
    "scrolled": true
   },
   "outputs": [
    {
     "name": "stdout",
     "output_type": "stream",
     "text": [
      "global epochs = 1, acc = 0.8842  Time taken: 161.98s\n",
      "global epochs = 2, acc = 0.9348  Time taken: 322.99s\n",
      "global epochs = 3, acc = 0.9546  Time taken: 486.85s\n",
      "global epochs = 4, acc = 0.9600  Time taken: 648.92s\n",
      "global epochs = 5, acc = 0.9657  Time taken: 807.26s\n",
      "global epochs = 6, acc = 0.9666  Time taken: 959.25s\n",
      "global epochs = 7, acc = 0.9704  Time taken: 1109.23s\n",
      "global epochs = 8, acc = 0.9712  Time taken: 1257.56s\n",
      "global epochs = 9, acc = 0.9739  Time taken: 1400.09s\n",
      "global epochs = 10, acc = 0.9742  Time taken: 1538.17s\n"
     ]
    }
   ],
   "source": [
    "import time\n",
    "\n",
    "acc = []\n",
    "start_time = time.time()\n",
    "for t in range(fl_param['tot_T']):\n",
    "    acc += [fl_entity.global_update()]\n",
    "    print(\"global epochs = {:d}, acc = {:.4f}\".format(t+1, acc[-1]), \" Time taken: %.2fs\" % (time.time() - start_time))"
   ]
  },
  {
   "cell_type": "code",
   "execution_count": null,
   "metadata": {},
   "outputs": [],
   "source": [
    "# SGD (mnt=0.9)"
   ]
  }
 ],
 "metadata": {
  "kernelspec": {
   "display_name": "Python 3 (ipykernel)",
   "language": "python",
   "name": "python3"
  },
  "language_info": {
   "codemirror_mode": {
    "name": "ipython",
    "version": 3
   },
   "file_extension": ".py",
   "mimetype": "text/x-python",
   "name": "python",
   "nbconvert_exporter": "python",
   "pygments_lexer": "ipython3",
   "version": "3.10.9"
  }
 },
 "nbformat": 4,
 "nbformat_minor": 4
}
